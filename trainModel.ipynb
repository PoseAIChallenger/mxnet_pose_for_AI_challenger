{
 "cells": [
  {
   "cell_type": "code",
   "execution_count": 1,
   "metadata": {
    "collapsed": true,
    "deletable": true,
    "editable": true
   },
   "outputs": [],
   "source": [
    "import sys\n",
    "sys.path.append('../../practice_demo')"
   ]
  },
  {
   "cell_type": "markdown",
   "metadata": {},
   "source": [
    "base_lr: 0.000040"
   ]
  },
  {
   "cell_type": "code",
   "execution_count": 2,
   "metadata": {
    "collapsed": false,
    "deletable": true,
    "editable": true
   },
   "outputs": [],
   "source": [
    "from GenerateLabelCPM import *\n",
    "from modelCPM import *"
   ]
  },
  {
   "cell_type": "code",
   "execution_count": 3,
   "metadata": {
    "collapsed": true,
    "deletable": true,
    "editable": true
   },
   "outputs": [],
   "source": [
    "sym = mxnetModule()"
   ]
  },
  {
   "cell_type": "code",
   "execution_count": 4,
   "metadata": {
    "collapsed": false,
    "deletable": true,
    "editable": true
   },
   "outputs": [
    {
     "name": "stdout",
     "output_type": "stream",
     "text": [
      "self._data_shapes:  [DataDesc[data,(1, 3, 368, 368),<type 'numpy.float32'>,NCHW]]\n",
      "self._label_shapes:  [DataDesc[heatmaplabel,(1, 19, 46, 46),<type 'numpy.float32'>,NCHW], DataDesc[partaffinityglabel,(1, 38, 46, 46),<type 'numpy.float32'>,NCHW]]\n"
     ]
    }
   ],
   "source": [
    "cmodel = intializeModel(sym)"
   ]
  },
  {
   "cell_type": "code",
   "execution_count": 5,
   "metadata": {
    "collapsed": false,
    "deletable": true,
    "editable": true
   },
   "outputs": [],
   "source": [
    "cocodata = cocoIter('pose_io/data.json',\n",
    "                    'data', (1,3, 368,368),\n",
    "                    ['heatmaplabel','partaffinityglabel'],\n",
    "                    [(1, 19, 46, 46),(1,38,46,46)])"
   ]
  },
  {
   "cell_type": "code",
   "execution_count": 6,
   "metadata": {
    "collapsed": false,
    "deletable": true,
    "editable": true
   },
   "outputs": [
    {
     "name": "stdout",
     "output_type": "stream",
     "text": [
      "-------------\n",
      "1.05934e-08\n",
      "3.5435e-08\n",
      "-------------\n",
      "0.000615781\n",
      "0.00125011\n",
      "-------------\n",
      "0.000571712\n",
      "0.00169049\n",
      "-------------\n",
      "0.00196791\n",
      "0.00841065\n",
      "-------------\n",
      "0.00296555\n",
      "0.0287082\n",
      "-------------\n",
      "0.000649921\n",
      "0.00293906\n",
      "-------------\n",
      "0.00079231\n",
      "0.00291298\n",
      "-------------\n",
      "0.000618997\n",
      "0.00346037\n",
      "-------------\n",
      "0.000495606\n",
      "0.00148083\n",
      "-------------\n",
      "2.88742e-06\n",
      "1.80777e-07\n",
      "-------------\n",
      "0.000710441\n",
      "0.00439732\n",
      "-------------\n",
      "0.000111578\n",
      "0.000323599\n",
      "-------------\n",
      "3.63359e-05\n",
      "2.1786e-06\n",
      "-------------\n",
      "0.00113143\n",
      "0.00535995\n",
      "-------------\n",
      "0.000612072\n",
      "0.00176775\n",
      "-------------\n",
      "0.000292848\n",
      "0.000567834\n",
      "-------------\n",
      "0.000487854\n",
      "0.00164848\n",
      "-------------\n",
      "0.000386941\n",
      "0.00109444\n",
      "-------------\n",
      "2.1515e-07\n",
      "4.21183e-08\n",
      "-------------\n",
      "8.94964e-08\n",
      "4.56508e-08\n",
      "-------------\n",
      "0.00032792\n",
      "0.00330106\n",
      "-------------\n",
      "0.00158406\n",
      "0.00634685\n",
      "-------------\n",
      "0.000428516\n",
      "0.00336787\n",
      "-------------\n",
      "0.000347164\n",
      "0.00344747\n",
      "-------------\n",
      "0.000423805\n",
      "0.00104877\n",
      "-------------\n",
      "0.00074387\n",
      "0.00548392\n",
      "-------------\n",
      "0.000325731\n",
      "0.00109593\n",
      "-------------\n",
      "0.000287429\n",
      "0.00131158\n",
      "-------------\n",
      "0.000215979\n",
      "0.00269716\n",
      "-------------\n",
      "2.46646e-08\n",
      "3.54313e-08\n",
      "-------------\n",
      "5.56715e-07\n",
      "3.54357e-08\n",
      "-------------\n",
      "0.000176681\n",
      "0.00315297\n",
      "-------------\n",
      "0.000671439\n",
      "0.00410188\n",
      "-------------\n",
      "0.00107246\n",
      "0.0159403\n",
      "-------------\n",
      "0.00039778\n",
      "0.00433199\n",
      "-------------\n",
      "5.65321e-06\n",
      "9.59642e-08\n",
      "-------------\n",
      "0.00157653\n",
      "0.0133146\n",
      "-------------\n",
      "0.00103656\n",
      "0.00469402\n",
      "-------------\n",
      "0.00063753\n",
      "0.00174854\n",
      "-------------\n",
      "0.000685532\n",
      "0.00197498\n",
      "-------------\n",
      "2.31636e-08\n",
      "0.00909295\n",
      "-------------\n",
      "1.21051e-08\n",
      "3.54423e-08\n",
      "-------------\n",
      "0.00101551\n",
      "0.00303588\n",
      "-------------\n",
      "0.00100649\n",
      "0.00290133\n",
      "-------------\n",
      "1.05966e-08\n",
      "3.54297e-08\n",
      "-------------\n",
      "1.05966e-08\n",
      "3.54296e-08\n",
      "-------------\n",
      "1.05966e-08\n",
      "3.54295e-08\n",
      "-------------\n",
      "0.00682892\n",
      "0.032725\n",
      "-------------\n",
      "0.000523719\n",
      "0.0025379\n",
      "-------------\n",
      "0.0012056\n",
      "0.00147341\n",
      "1736.69319701\n"
     ]
    }
   ],
   "source": [
    "import time\n",
    "startt = time.time()\n",
    "\n",
    "cmodel.init_optimizer(optimizer='sgd', \n",
    "                      optimizer_params=(('learning_rate', 0.00004), ))\n",
    "\n",
    "# train one epoch, i.e. going over the data iter one pass\n",
    "for batch in cocodata:\n",
    "    cmodel.forward(batch, is_train=True)       # compute predictions\n",
    "    prediction=cmodel.get_outputs()\n",
    "    #print prediction\n",
    "    #print prediction[11].asnumpy().reshape(-1).shape\n",
    "    #print batch.label[0].asnumpy().reshape(-1).shape\n",
    "    print '-------------'\n",
    "    print np.mean((prediction[11].asnumpy().reshape(-1)-batch.label[0].asnumpy().reshape(-1))**2)\n",
    "    print np.mean((prediction[10].asnumpy().reshape(-1)-batch.label[1].asnumpy().reshape(-1))**2)\n",
    "    cmodel.backward()                          # compute gradients\n",
    "    cmodel.update()                            # update parameters using SGD\n",
    "    \n",
    "endt = time.time()\n",
    "print endt-startt"
   ]
  },
  {
   "cell_type": "code",
   "execution_count": null,
   "metadata": {
    "collapsed": true
   },
   "outputs": [],
   "source": [
    "1736/60"
   ]
  },
  {
   "cell_type": "markdown",
   "metadata": {
    "deletable": true,
    "editable": true
   },
   "source": [
    "### Fake Data"
   ]
  },
  {
   "cell_type": "code",
   "execution_count": null,
   "metadata": {
    "collapsed": true,
    "deletable": true,
    "editable": true
   },
   "outputs": [],
   "source": [
    "cocoIterFake = cocoIter('pose_io/data.json',\n",
    "                    'data', (1,3, 368,368),\n",
    "                    ['heatmaplabel','partaffinityglabel'],\n",
    "                    [(1, 19, 46, 46),(1,38,46,46)])"
   ]
  },
  {
   "cell_type": "code",
   "execution_count": null,
   "metadata": {
    "collapsed": false,
    "deletable": true,
    "editable": true
   },
   "outputs": [],
   "source": [
    "import time\n",
    "startt = time.time()\n",
    "\n",
    "cmodel.init_optimizer(optimizer='sgd', \n",
    "                      optimizer_params=(('learning_rate', 0.01), ))\n",
    "\n",
    "# train one epoch, i.e. going over the data iter one pass\n",
    "for batch in cocoIterFake:\n",
    "    cmodel.forward(batch, is_train=True)       # compute predictions\n",
    "    prediction=cmodel.get_outputs()\n",
    "    #print prediction\n",
    "    #print prediction[11].asnumpy().reshape(-1).shape\n",
    "    #print batch.label[0].asnumpy().reshape(-1).shape\n",
    "    print '-------------'\n",
    "    print np.mean((prediction[11].asnumpy().reshape(-1)-batch.label[0].asnumpy().reshape(-1))**2)\n",
    "    print np.mean((prediction[10].asnumpy().reshape(-1)-batch.label[1].asnumpy().reshape(-1))**2)\n",
    "    cmodel.backward()                          # compute gradients\n",
    "    cmodel.update()                            # update parameters using SGD\n",
    "    \n",
    "endt = time.time()\n",
    "print endt-startt"
   ]
  },
  {
   "cell_type": "markdown",
   "metadata": {
    "collapsed": true,
    "deletable": true,
    "editable": true
   },
   "source": [
    "### Comparsion"
   ]
  },
  {
   "cell_type": "code",
   "execution_count": null,
   "metadata": {
    "collapsed": false
   },
   "outputs": [],
   "source": [
    "import matplotlib.pylab as plt\n",
    "%matplotlib inline\n",
    "\n",
    "cocodata = cocoIter('pose_io/data.json',\n",
    "                    'data', (1,3, 368,368),\n",
    "                    ['heatmaplabel','partaffinityglabel'],\n",
    "                    [(1, 19, 46, 46),(1,38,46,46)])\n",
    "\n",
    "dataitera = cocodata.next()\n",
    "\n",
    "newsimage = dataitera.data[0].asnumpy()[0]\n",
    "\n",
    "heatmap1 = dataitera.label[0].asnumpy()[0]\n",
    "\n",
    "pagmap1 = dataitera.label[1].asnumpy()[0]\n",
    "\n",
    "#oriImg[:,:,[2,1,0]]\n",
    "f = plt.imshow(newsimage[0,:,:]) # reorder it before displaying\n",
    "\n",
    "plt.figure();  # plt.axis('off')"
   ]
  },
  {
   "cell_type": "code",
   "execution_count": null,
   "metadata": {
    "collapsed": false
   },
   "outputs": [],
   "source": [
    "heatmap1.shape"
   ]
  },
  {
   "cell_type": "code",
   "execution_count": null,
   "metadata": {
    "collapsed": false
   },
   "outputs": [],
   "source": [
    "pagmap1.shape"
   ]
  },
  {
   "cell_type": "code",
   "execution_count": null,
   "metadata": {
    "collapsed": true
   },
   "outputs": [],
   "source": [
    "import matplotlib"
   ]
  },
  {
   "cell_type": "code",
   "execution_count": null,
   "metadata": {
    "collapsed": false
   },
   "outputs": [],
   "source": [
    "for i in range(1,2):\n",
    "    plt.imshow(cv.resize(heatmap1[i,:,:], (368, 368)))\n",
    "\n",
    "plt.imshow(newsimage[0,:,:], alpha=0.5)\n",
    "\n",
    "fig = matplotlib.pyplot.gcf()\n",
    "fig.set_size_inches(5, 5)\n",
    "\n",
    "plt.show()"
   ]
  },
  {
   "cell_type": "code",
   "execution_count": null,
   "metadata": {
    "collapsed": false
   },
   "outputs": [],
   "source": [
    "cmodel.forward(dataitera)       # compute predictions\n",
    "prediction=cmodel.get_outputs()\n",
    "\n",
    "heatmap2 = prediction[11].asnumpy()[0]\n",
    "\n",
    "plt.figure();  # plt.axis('off')\n",
    "\n",
    "for i in range(18,19):\n",
    "    plt.imshow(cv.resize(heatmap2[i,:,:], (368, 368)), alpha=(1 - 1.0 * i / 10))\n",
    "\n",
    "plt.imshow(newsimage[0,:,:], alpha=0.1)\n",
    "\n",
    "plt.show()"
   ]
  },
  {
   "cell_type": "code",
   "execution_count": null,
   "metadata": {
    "collapsed": false
   },
   "outputs": [],
   "source": [
    "differentmap = heatmap2[7,:,:]-heatmap1[7,:,:]\n",
    "\n",
    "plt.figure();  # plt.axis('off')\n",
    "\n",
    "plt.imshow(cv.resize(differentmap, (368, 368)))\n",
    "\n",
    "plt.imshow(newsimage[0,:,:], alpha=0.1)\n",
    "\n",
    "plt.show()"
   ]
  },
  {
   "cell_type": "code",
   "execution_count": null,
   "metadata": {
    "collapsed": false
   },
   "outputs": [],
   "source": [
    "differentmap[0,1]"
   ]
  },
  {
   "cell_type": "code",
   "execution_count": null,
   "metadata": {
    "collapsed": false
   },
   "outputs": [],
   "source": [
    "differentmap = heatmap2[10,:,:]-heatmap1[10,:,:]\n",
    "\n",
    "plt.figure();  # plt.axis('off')\n",
    "\n",
    "plt.imshow(cv.resize(differentmap, (368, 368)))\n",
    "\n",
    "plt.imshow(newsimage[0,:,:], alpha=0.1)\n",
    "\n",
    "plt.show()"
   ]
  },
  {
   "cell_type": "code",
   "execution_count": null,
   "metadata": {
    "collapsed": false
   },
   "outputs": [],
   "source": [
    "differentmap = heatmap2[18,:,:]-heatmap1[18,:,:]\n",
    "\n",
    "plt.figure();  # plt.axis('off')\n",
    "\n",
    "plt.imshow(cv.resize(differentmap, (368, 368)))\n",
    "\n",
    "plt.imshow(newsimage[0,:,:], alpha=0.1)\n",
    "\n",
    "plt.show()"
   ]
  },
  {
   "cell_type": "code",
   "execution_count": null,
   "metadata": {
    "collapsed": true,
    "deletable": true,
    "editable": true
   },
   "outputs": [],
   "source": []
  }
 ],
 "metadata": {
  "kernelspec": {
   "display_name": "Python 2",
   "language": "python",
   "name": "python2"
  },
  "language_info": {
   "codemirror_mode": {
    "name": "ipython",
    "version": 2
   },
   "file_extension": ".py",
   "mimetype": "text/x-python",
   "name": "python",
   "nbconvert_exporter": "python",
   "pygments_lexer": "ipython2",
   "version": "2.7.12"
  }
 },
 "nbformat": 4,
 "nbformat_minor": 2
}
